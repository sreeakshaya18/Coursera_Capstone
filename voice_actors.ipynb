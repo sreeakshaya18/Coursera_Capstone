{
 "cells": [
  {
   "cell_type": "code",
   "execution_count": 1,
   "metadata": {},
   "outputs": [],
   "source": [
    "import bs4\n",
    "import lxml.html\n",
    "from selenium.common.exceptions import NoSuchElementException\n",
    "from lxml import etree\n",
    "from selenium import webdriver\n",
    "import selenium\n",
    "import requests\n",
    "import csv"
   ]
  },
  {
   "cell_type": "code",
   "execution_count": 21,
   "metadata": {},
   "outputs": [],
   "source": [
    "driver = webdriver.Chrome(executable_path=r'C:\\Users\\Akshaya\\Downloads\\chromedriver.exe')"
   ]
  },
  {
   "cell_type": "code",
   "execution_count": 3,
   "metadata": {},
   "outputs": [],
   "source": [
    "vanames = []"
   ]
  },
  {
   "cell_type": "code",
   "execution_count": 4,
   "metadata": {},
   "outputs": [],
   "source": [
    "links = [\"https://en.wikipedia.org/wiki/Category:Japanese_voice_actresses\",\"https://en.wikipedia.org/w/index.php?title=Category:Japanese_voice_actresses&pagefrom=Iijima%2C+Mari%0AMari+Iijima#mw-pages\",\"https://en.wikipedia.org/w/index.php?title=Category:Japanese_voice_actresses&pagefrom=Machico%0AMachico+%28singer%29#mw-pages\",\"https://en.wikipedia.org/w/index.php?title=Category:Japanese_voice_actresses&pagefrom=Okasaki%2C+Miho%0AMiho+Okasaki#mw-pages\",\"https://en.wikipedia.org/w/index.php?title=Category:Japanese_voice_actresses&pagefrom=Takashima%2C+Reiko%0AReiko+Takashima#mw-pages\",\"https://en.wikipedia.org/wiki/Category:Japanese_male_voice_actors\",\"https://en.wikipedia.org/w/index.php?title=Category:Japanese_male_voice_actors&pagefrom=Kanao%2C+Tetsuo%0ATetsuo+Kanao#mw-pages\",\"https://en.wikipedia.org/w/index.php?title=Category:Japanese_male_voice_actors&pagefrom=Nishimoto%2C+Hiroyuki%0AHiroyuki+Nishimoto#mw-pages\",\"https://en.wikipedia.org/w/index.php?title=Category:Japanese_male_voice_actors&pagefrom=Tatekabe%2C+Kazuya%0AKazuya+Tatekabe#mw-pages\"]\n",
    "\n",
    "for link in links:\n",
    "    driver.get(link)\n",
    "    for j in range(1,27):\n",
    "        i=1\n",
    "        while(True):\n",
    "            try:\n",
    "                name = driver.find_element_by_xpath('/html/body/div[3]/div[3]/div[4]/div[2]/div[2]/div/div/div['+str(j)+']/ul/li['+str(i)+']/a')\n",
    "                vanames.append(name.text)\n",
    "                i+=1\n",
    "            except NoSuchElementException:\n",
    "                break"
   ]
  },
  {
   "cell_type": "code",
   "execution_count": 5,
   "metadata": {},
   "outputs": [],
   "source": [
    "va_names=[]"
   ]
  },
  {
   "cell_type": "code",
   "execution_count": 6,
   "metadata": {},
   "outputs": [],
   "source": [
    "for name in vanames:\n",
    "    if \"ō\" in name:\n",
    "        va_names.append(name.replace(\"ō\",\"ou\"))\n",
    "        va_names.append(name.replace(\"ō\",\"o\"))\n",
    "    else:\n",
    "        va_names.append(name)"
   ]
  },
  {
   "cell_type": "code",
   "execution_count": 7,
   "metadata": {},
   "outputs": [],
   "source": [
    "def nameconv(name):\n",
    "    name = name.split(\" \")\n",
    "    if len(name)>1:\n",
    "        name[0] = name[0][:-1]\n",
    "        name = name[1] + \" \" + name[0]\n",
    "        return(name)"
   ]
  },
  {
   "cell_type": "code",
   "execution_count": 8,
   "metadata": {},
   "outputs": [],
   "source": [
    "names_va = []\n",
    "names_links = {}\n",
    "for i in range(0,8):\n",
    "    link = \"https://myanimelist.net/people.php?limit=\" + str(50*i)\n",
    "    driver.get(link)\n",
    "    i=2\n",
    "    while(True):\n",
    "        try:\n",
    "            name = driver.find_element_by_xpath('/html/body/div[1]/div[2]/div[3]/div[2]/table/tbody/tr['+str(i)+']/td[2]/div/a')\n",
    "            if nameconv(name.text) in va_names:\n",
    "                names_va.append(nameconv(name.text))\n",
    "                names_links[nameconv(name.text)] = name.get_attribute(\"href\")\n",
    "            i+=1\n",
    "        except NoSuchElementException:\n",
    "            break"
   ]
  },
  {
   "cell_type": "code",
   "execution_count": 9,
   "metadata": {},
   "outputs": [],
   "source": [
    "ani_names = []\n",
    "link = \"https://myanimelist.net/animelist/animefankitty\"\n",
    "driver.get(link)\n",
    "i=2\n",
    "while(True):\n",
    "    try:\n",
    "        name = driver.find_element_by_xpath('/html/body/div[3]/div[4]/div/table/tbody['+str(i)+']/tr[1]/td[4]/a')\n",
    "        ani_names.append(name.text)\n",
    "        i+=1\n",
    "    except NoSuchElementException:\n",
    "        break"
   ]
  },
  {
   "cell_type": "code",
   "execution_count": 31,
   "metadata": {},
   "outputs": [],
   "source": [
    "with open('ani_list.csv', mode='w', encoding=\"utf-8\") as anilist:\n",
    "    anilist = csv.writer(anilist, delimiter=',', quotechar='\"', quoting=csv.QUOTE_MINIMAL)\n",
    "\n",
    "    for x in ani_names:\n",
    "        anilist.writerow([x])"
   ]
  },
  {
   "cell_type": "code",
   "execution_count": 18,
   "metadata": {},
   "outputs": [],
   "source": [
    "with open('va_list.csv', mode='w', encoding=\"utf-8\") as valist:\n",
    "    valist = csv.writer(valist, delimiter=',', quotechar='\"', quoting=csv.QUOTE_MINIMAL)\n",
    "\n",
    "    for x in names_va:\n",
    "        valist.writerow([x])"
   ]
  },
  {
   "cell_type": "code",
   "execution_count": 19,
   "metadata": {},
   "outputs": [],
   "source": [
    "va_list = {}"
   ]
  },
  {
   "cell_type": "code",
   "execution_count": 37,
   "metadata": {},
   "outputs": [],
   "source": [
    "for vname in names_va[:]:\n",
    "    link = names_links[vname]\n",
    "    driver.get(link)\n",
    "    va_list[vname] = {}\n",
    "    i=1\n",
    "    while(True):\n",
    "        try:\n",
    "            aniname = driver.find_element_by_xpath('/html/body/div[1]/div[2]/div[3]/div[2]/table/tbody/tr/td[2]/table[1]/tbody/tr['+str(i)+']/td[2]/a')\n",
    "            charname = driver.find_element_by_xpath('/html/body/div[1]/div[2]/div[3]/div[2]/table/tbody/tr/td[2]/table[1]/tbody/tr['+str(i)+']/td[3]/a')\n",
    "            if aniname.text in ani_names:\n",
    "                va_list[vname][aniname.text] = charname.text\n",
    "            i+=1\n",
    "        except NoSuchElementException:\n",
    "            break"
   ]
  },
  {
   "cell_type": "code",
   "execution_count": 38,
   "metadata": {},
   "outputs": [],
   "source": [
    "with open('aniva_list.csv', mode='w', encoding=\"utf-8\") as anivalist:\n",
    "    anivalist = csv.writer(anivalist, delimiter=',', quotechar='\"', quoting=csv.QUOTE_MINIMAL)\n",
    "    for key, val in va_list.items():\n",
    "        anivalist.writerow([key, val])"
   ]
  },
  {
   "cell_type": "code",
   "execution_count": 51,
   "metadata": {},
   "outputs": [],
   "source": [
    "with open('aniva_list.txt', mode='w', encoding=\"utf-8\") as anivalist:\n",
    "    for name in names_va:\n",
    "        anivalist.write(name)\n",
    "        anivalist.write(\"\\n\")\n",
    "        anivalist.write(\"\\n\")\n",
    "        anivalist.write(str(va_list[name]))\n",
    "        anivalist.write(\"\\n\")\n",
    "        anivalist.write(\"\\n\")\n",
    "        anivalist.write(\"\\n\")"
   ]
  },
  {
   "cell_type": "code",
   "execution_count": null,
   "metadata": {},
   "outputs": [],
   "source": []
  }
 ],
 "metadata": {
  "language_info": {
   "codemirror_mode": {
    "name": "ipython",
    "version": 3
   },
   "file_extension": ".py",
   "mimetype": "text/x-python",
   "name": "python",
   "nbconvert_exporter": "python",
   "pygments_lexer": "ipython3",
   "version": "3.7.3-final"
  },
  "orig_nbformat": 2,
  "kernelspec": {
   "name": "python37364bit20644c5f39084bee854941dd846a15f6",
   "display_name": "Python 3.7.3 64-bit"
  }
 },
 "nbformat": 4,
 "nbformat_minor": 2
}