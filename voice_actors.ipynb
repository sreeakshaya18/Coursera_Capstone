{
 "cells": [
  {
   "cell_type": "code",
   "execution_count": 1,
   "metadata": {},
   "outputs": [],
   "source": [
    "import bs4\n",
    "import lxml.html\n",
    "from selenium.common.exceptions import NoSuchElementException\n",
    "from lxml import etree\n",
    "from selenium import webdriver\n",
    "import selenium\n",
    "import requests\n",
    "import csv"
   ]
  },
  {
   "cell_type": "code",
   "execution_count": 2,
   "metadata": {},
   "outputs": [],
   "source": [
    "driver = webdriver.Chrome(executable_path=r'C:\\Users\\Akshaya\\Downloads\\chromedriver.exe')"
   ]
  },
  {
   "cell_type": "code",
   "execution_count": 110,
   "metadata": {},
   "outputs": [],
   "source": [
    "vanames = []\n",
    "faulty = 0"
   ]
  },
  {
   "cell_type": "code",
   "execution_count": 111,
   "metadata": {},
   "outputs": [],
   "source": [
    "links = [\"https://en.wikipedia.org/wiki/Category:Japanese_voice_actresses\",\"https://en.wikipedia.org/w/index.php?title=Category:Japanese_voice_actresses&pagefrom=Iijima%2C+Mari%0AMari+Iijima#mw-pages\",\"https://en.wikipedia.org/w/index.php?title=Category:Japanese_voice_actresses&pagefrom=Machico%0AMachico+%28singer%29#mw-pages\",\"https://en.wikipedia.org/w/index.php?title=Category:Japanese_voice_actresses&pagefrom=Okasaki%2C+Miho%0AMiho+Okasaki#mw-pages\",\"https://en.wikipedia.org/w/index.php?title=Category:Japanese_voice_actresses&pagefrom=Takashima%2C+Reiko%0AReiko+Takashima#mw-pages\",\"https://en.wikipedia.org/wiki/Category:Japanese_male_voice_actors\",\"https://en.wikipedia.org/w/index.php?title=Category:Japanese_male_voice_actors&pagefrom=Kanao%2C+Tetsuo%0ATetsuo+Kanao#mw-pages\",\"https://en.wikipedia.org/w/index.php?title=Category:Japanese_male_voice_actors&pagefrom=Nishimoto%2C+Hiroyuki%0AHiroyuki+Nishimoto#mw-pages\",\"https://en.wikipedia.org/w/index.php?title=Category:Japanese_male_voice_actors&pagefrom=Tatekabe%2C+Kazuya%0AKazuya+Tatekabe#mw-pages\"]\n",
    "num = [9,4,3,5,5,11,4,6,4]\n",
    "k=0\n",
    "for link in links:\n",
    "    driver.get(link)\n",
    "    for j in range(1,(num[k]+1)):\n",
    "        for i in range(1,200) :\n",
    "            try:\n",
    "                name = driver.find_element_by_xpath('/html/body/div[3]/div[3]/div[4]/div[2]/div[2]/div/div/div['+str(j)+']/ul/li['+str(i)+']/a')\n",
    "                vanames.append(name.text)\n",
    "            except NoSuchElementException:\n",
    "                faulty+=1\n",
    "    k+=1"
   ]
  },
  {
   "cell_type": "code",
   "execution_count": 112,
   "metadata": {},
   "outputs": [
    {
     "output_type": "execute_result",
     "data": {
      "text/plain": "1661"
     },
     "metadata": {},
     "execution_count": 112
    }
   ],
   "source": [
    "len(vanames)"
   ]
  },
  {
   "cell_type": "code",
   "execution_count": 113,
   "metadata": {},
   "outputs": [],
   "source": [
    "vanamesn = vanames[:]"
   ]
  },
  {
   "cell_type": "code",
   "execution_count": 117,
   "metadata": {},
   "outputs": [],
   "source": [
    "for i,name in enumerate(vanames):\n",
    "    if name.find(\"(\") != -1:\n",
    "        vanames[i] = vanames[i][:(name.find(\"(\")-1)]"
   ]
  },
  {
   "cell_type": "code",
   "execution_count": 163,
   "metadata": {},
   "outputs": [],
   "source": [
    "va_names=[]"
   ]
  },
  {
   "cell_type": "code",
   "execution_count": 164,
   "metadata": {},
   "outputs": [],
   "source": [
    "for name in vanames:\n",
    "    if (\"ō\" in name) and (\"ū\" in name):\n",
    "        va_names.append(name.replace(\"ū\",\"uu\").replace(\"ō\",\"ou\"))\n",
    "        va_names.append(name.replace(\"ū\",\"u\").replace(\"ō\",\"ou\"))\n",
    "        va_names.append(name.replace(\"ū\",\"uu\").replace(\"ō\",\"o\"))\n",
    "        va_names.append(name.replace(\"ū\",\"u\").replace(\"ō\",\"o\"))\n",
    "        va_names.append(name.replace(\"ū\",\"uu\").replace(\"ō\",\"oo\"))\n",
    "        va_names.append(name.replace(\"ū\",\"u\").replace(\"ō\",\"oo\"))\n",
    "    elif (\"ō\" in name) and (\"Ō\" in name):\n",
    "        va_names.append(name.replace(\"ō\",\"o\").replace(\"Ō\",\"O\"))\n",
    "        va_names.append(name.replace(\"ō\",\"o\").replace(\"Ō\",\"Oo\"))\n",
    "        va_names.append(name.replace(\"ō\",\"o\").replace(\"Ō\",\"Ou\"))\n",
    "        va_names.append(name.replace(\"ō\",\"oo\").replace(\"Ō\",\"O\"))\n",
    "        va_names.append(name.replace(\"ō\",\"oo\").replace(\"Ō\",\"Oo\"))\n",
    "        va_names.append(name.replace(\"ō\",\"oo\").replace(\"Ō\",\"Ou\"))\n",
    "        va_names.append(name.replace(\"ō\",\"ou\").replace(\"Ō\",\"O\"))\n",
    "        va_names.append(name.replace(\"ō\",\"ou\").replace(\"Ō\",\"Oo\"))\n",
    "        va_names.append(name.replace(\"ō\",\"ou\").replace(\"Ō\",\"Ou\"))\n",
    "    elif \"Ō\" in name:\n",
    "        va_names.append(name.replace(\"Ō\",\"Ou\"))\n",
    "        va_names.append(name.replace(\"Ō\",\"O\"))\n",
    "        va_names.append(name.replace(\"Ō\",\"Oo\"))\n",
    "    elif \"ō\" in name:\n",
    "        va_names.append(name.replace(\"ō\",\"ou\"))\n",
    "        va_names.append(name.replace(\"ō\",\"o\"))\n",
    "        va_names.append(name.replace(\"ō\",\"oo\"))\n",
    "    elif \"ū\" in name:\n",
    "        va_names.append(name.replace(\"ū\",\"uu\"))\n",
    "        va_names.append(name.replace(\"ū\",\"u\"))\n",
    "    else:\n",
    "        va_names.append(name)"
   ]
  },
  {
   "cell_type": "code",
   "execution_count": 123,
   "metadata": {},
   "outputs": [],
   "source": [
    "o = 0\n",
    "for name in vanames:\n",
    "    if \"ō\" in name and \"ū\" not in name:\n",
    "        o+=1\n",
    "u = 0\n",
    "for name in vanames:\n",
    "    if \"ū\" in name and \"ō\" not in name:\n",
    "        u+=1\n",
    "ou = 0\n",
    "for name in vanames:\n",
    "    if \"ū\" in name and \"ō\" in name:\n",
    "        ou+=1"
   ]
  },
  {
   "cell_type": "code",
   "execution_count": 124,
   "metadata": {},
   "outputs": [
    {
     "output_type": "execute_result",
     "data": {
      "text/plain": "[192, 63, 8]"
     },
     "metadata": {},
     "execution_count": 124
    }
   ],
   "source": [
    "[o,u,ou]"
   ]
  },
  {
   "cell_type": "code",
   "execution_count": 165,
   "metadata": {},
   "outputs": [
    {
     "output_type": "execute_result",
     "data": {
      "text/plain": "2220"
     },
     "metadata": {},
     "execution_count": 165
    }
   ],
   "source": [
    "len(va_names)"
   ]
  },
  {
   "cell_type": "code",
   "execution_count": 166,
   "metadata": {},
   "outputs": [],
   "source": [
    "def nameconv(name):\n",
    "    name = name.split(\" \")\n",
    "    if len(name)>1:\n",
    "        name[0] = name[0][:-1]\n",
    "        name = name[1] + \" \" + name[0]\n",
    "    return(name)"
   ]
  },
  {
   "cell_type": "code",
   "execution_count": 128,
   "metadata": {},
   "outputs": [],
   "source": [
    "names_va = []\n",
    "names_links = {}\n",
    "for j in range(0,8):\n",
    "    link = \"https://myanimelist.net/people.php?limit=\" + str(50*j)\n",
    "    driver.get(link)\n",
    "    i=2\n",
    "    while(True):\n",
    "        try:\n",
    "            name = driver.find_element_by_xpath('/html/body/div[1]/div[2]/div[3]/div[2]/table/tbody/tr['+str(i)+']/td[2]/div/a')\n",
    "            if nameconv(name.text) in va_names:\n",
    "                names_va.append(nameconv(name.text))\n",
    "                names_links[nameconv(name.text)] = name.get_attribute(\"href\")\n",
    "            i+=1\n",
    "        except NoSuchElementException:\n",
    "            break"
   ]
  },
  {
   "cell_type": "code",
   "execution_count": 130,
   "metadata": {},
   "outputs": [
    {
     "output_type": "execute_result",
     "data": {
      "text/plain": "188"
     },
     "metadata": {},
     "execution_count": 130
    }
   ],
   "source": [
    "len(names_va)"
   ]
  },
  {
   "cell_type": "code",
   "execution_count": 131,
   "metadata": {},
   "outputs": [],
   "source": [
    "ani_names = []\n",
    "link = \"https://myanimelist.net/animelist/animefankitty\"\n",
    "driver.get(link)\n",
    "i=2\n",
    "while(True):\n",
    "    try:\n",
    "        name = driver.find_element_by_xpath('/html/body/div[3]/div[4]/div/table/tbody['+str(i)+']/tr[1]/td[4]/a')\n",
    "        ani_names.append(name.text)\n",
    "        i+=1\n",
    "    except NoSuchElementException:\n",
    "        break"
   ]
  },
  {
   "cell_type": "code",
   "execution_count": 133,
   "metadata": {},
   "outputs": [],
   "source": [
    "with open('ani_list.csv', mode='w', encoding=\"utf-8\") as anilist:\n",
    "    anilist = csv.writer(anilist, delimiter=',', quotechar='\"', quoting=csv.QUOTE_MINIMAL)\n",
    "\n",
    "    for x in ani_names:\n",
    "        anilist.writerow([x])"
   ]
  },
  {
   "cell_type": "code",
   "execution_count": 134,
   "metadata": {},
   "outputs": [],
   "source": [
    "with open('va_list.csv', mode='w', encoding=\"utf-8\") as valist:\n",
    "    valist = csv.writer(valist, delimiter=',', quotechar='\"', quoting=csv.QUOTE_MINIMAL)\n",
    "\n",
    "    for x in names_va:\n",
    "        valist.writerow([x])"
   ]
  },
  {
   "cell_type": "code",
   "execution_count": 135,
   "metadata": {},
   "outputs": [],
   "source": [
    "va_list = {}"
   ]
  },
  {
   "cell_type": "code",
   "execution_count": 142,
   "metadata": {},
   "outputs": [],
   "source": [
    "for vname in names_va[120:]:\n",
    "    link = names_links[vname]\n",
    "    driver.get(link)\n",
    "    va_list[vname] = {}\n",
    "    i=1\n",
    "    while(True):\n",
    "        try:\n",
    "            aniname = driver.find_element_by_xpath('/html/body/div[1]/div[2]/div[3]/div[2]/table/tbody/tr/td[2]/table[1]/tbody/tr['+str(i)+']/td[2]/a')\n",
    "            charname = driver.find_element_by_xpath('/html/body/div[1]/div[2]/div[3]/div[2]/table/tbody/tr/td[2]/table[1]/tbody/tr['+str(i)+']/td[3]/a')\n",
    "            if aniname.text in ani_names:\n",
    "                va_list[vname][aniname.text] = charname.text\n",
    "            i+=1\n",
    "        except NoSuchElementException:\n",
    "            break"
   ]
  },
  {
   "cell_type": "code",
   "execution_count": 173,
   "metadata": {},
   "outputs": [],
   "source": [
    "with open('aniva_list.csv', mode='w', encoding=\"utf-8\") as anivalist:\n",
    "    anivalist = csv.writer(anivalist, delimiter=',', quotechar='\"', quoting=csv.QUOTE_MINIMAL)\n",
    "    for key, val in va_list.items():\n",
    "        anivalist.writerow([key, val])"
   ]
  },
  {
   "cell_type": "code",
   "execution_count": 174,
   "metadata": {},
   "outputs": [],
   "source": [
    "with open('aniva_list.txt', mode='w', encoding=\"utf-8\") as anivalist:\n",
    "    for key, val in va_list.items():\n",
    "        anivalist.write(key)\n",
    "        anivalist.write(\"\\n\")\n",
    "        anivalist.write(\"\\n\")\n",
    "        anivalist.write(str(va_list[key]))\n",
    "        anivalist.write(\"\\n\")\n",
    "        anivalist.write(\"\\n\")\n",
    "        anivalist.write(\"\\n\")"
   ]
  },
  {
   "cell_type": "code",
   "execution_count": 172,
   "metadata": {},
   "outputs": [],
   "source": [
    "for vname in names_vae:\n",
    "    if vname not in names_va:\n",
    "        link = names_linkse[vname]\n",
    "        driver.get(link)\n",
    "        va_list[vname] = {}\n",
    "        i=1\n",
    "        while(True):\n",
    "            try:\n",
    "                aniname = driver.find_element_by_xpath('/html/body/div[1]/div[2]/div[3]/div[2]/table/tbody/tr/td[2]/table[1]/tbody/tr['+str(i)+']/td[2]/a')\n",
    "                charname = driver.find_element_by_xpath('/html/body/div[1]/div[2]/div[3]/div[2]/table/tbody/tr/td[2]/table[1]/tbody/tr['+str(i)+']/td[3]/a')\n",
    "                if aniname.text in ani_names:\n",
    "                    va_list[vname][aniname.text] = charname.text\n",
    "                i+=1\n",
    "            except NoSuchElementException:\n",
    "                break"
   ]
  }
 ],
 "metadata": {
  "language_info": {
   "codemirror_mode": {
    "name": "ipython",
    "version": 3
   },
   "file_extension": ".py",
   "mimetype": "text/x-python",
   "name": "python",
   "nbconvert_exporter": "python",
   "pygments_lexer": "ipython3",
   "version": "3.7.3-final"
  },
  "orig_nbformat": 2,
  "kernelspec": {
   "name": "python37364bit20644c5f39084bee854941dd846a15f6",
   "display_name": "Python 3.7.3 64-bit"
  }
 },
 "nbformat": 4,
 "nbformat_minor": 2
}