{
 "cells": [
  {
   "cell_type": "code",
   "execution_count": 2,
   "metadata": {},
   "outputs": [],
   "source": [
    "import time\n",
    "import numpy as np"
   ]
  },
  {
   "cell_type": "code",
   "execution_count": 3,
   "metadata": {},
   "outputs": [],
   "source": [
    "def remove(list,i):\n",
    "    listdup = list[:]\n",
    "    listdup.remove(i)\n",
    "    return(listdup)"
   ]
  },
  {
   "cell_type": "code",
   "execution_count": 26,
   "metadata": {},
   "outputs": [],
   "source": [
    "def sum15(list):\n",
    "    if(sum(list) < 15 or len(list)<3):\n",
    "        return([False, None])\n",
    "    elif(sum(list) == 15):\n",
    "        if(len(list) == 3):\n",
    "            if (0 not in list):\n",
    "                return([True, list])\n",
    "            else:\n",
    "                return([False, None])\n",
    "        else:\n",
    "            return([False, None])\n",
    "    else:\n",
    "        for i in list:\n",
    "            for j in remove(list,i):\n",
    "                for k in remove(remove(list,i),j):\n",
    "                    if (sum([i,j,k]) == 15):\n",
    "                        if (0 not in list):\n",
    "                            return([True, [i,j,k]])\n",
    "                        else:\n",
    "                            riturn = [False, None]\n",
    "                    else:\n",
    "                        riturn = [False, None]\n",
    "        return(riturn)"
   ]
  },
  {
   "cell_type": "code",
   "execution_count": 27,
   "metadata": {},
   "outputs": [
    {
     "output_type": "execute_result",
     "data": {
      "text/plain": "[False, None]"
     },
     "metadata": {},
     "execution_count": 27
    }
   ],
   "source": [
    "sum15([7,9])"
   ]
  },
  {
   "cell_type": "code",
   "execution_count": 29,
   "metadata": {},
   "outputs": [],
   "source": [
    "def ab_game():\n",
    "    print(\"\\n\")\n",
    "    print(\"Hi.\")\n",
    "    print(\"We will now play a game.\")\n",
    "    print(\"Rules:\")\n",
    "    print(\"There are numbers from 0 to 9.\")\n",
    "    print(\"Player 1 chooses a number.\")\n",
    "    print(\"And then player 2 chooses another distinct number.\")\n",
    "    print(\"We continue until we run out of numbers or one of the players have a set of three numbers that add up to 15.\")\n",
    "    print(\"The first one to do this wins. Also, do not forget, 0 cannot be one of the numbers!\")\n",
    "    print(\"Good luck!\")\n",
    "\n",
    "    print(\"Input Player 1's name:\")\n",
    "    time.sleep(1)\n",
    "    name1 = input()\n",
    "    name1 = name1.replace(\" \", \"\")\n",
    "    print(\"Hi \" + name1)\n",
    "\n",
    "    print(\"Input Player 2's name:\")\n",
    "    time.sleep(1)\n",
    "    name2 = input()\n",
    "    name2 = name2.replace(\" \", \"\")\n",
    "    print(\"Hi \" + name2)\n",
    "\n",
    "    numbers = [0,1,2,3,4,5,6,7,8,9]\n",
    "    print(\"The game has begun.\")\n",
    "    numsum1 = []\n",
    "    numsum2 = []\n",
    "\n",
    "    while((sum15(numsum1)[0] == False and sum15(numsum2)[0] == False) and numbers != []):\n",
    "\n",
    "        print(\"Current status:\\n\" + name1 + \": \" + str(numsum1) + \"\\n\" + name2 + \": \" + str(numsum2) + \"\\n\" + name1 + \" choose a number from \" + str(numbers) + \".\")\n",
    "        time.sleep(1)\n",
    "        num1 = input()\n",
    "        num1 = int(num1)\n",
    "        numsum1.append(num1)\n",
    "        numbers.remove(num1)\n",
    "        print(\"You chose \" + str(num1) + \".\")\n",
    "\n",
    "        print(\"Current status:\\n\" + name1 + \": \" + str(numsum1) + \"\\n\" + name2 + \": \" + str(numsum2) + \"\\n\"  + name2 + \" choose a number from \" + str(numbers) + \".\")\n",
    "        time.sleep(1)\n",
    "        num2 = input()\n",
    "        num2 = int(num2)\n",
    "        numsum2.append(num2)\n",
    "        numbers.remove(num2)\n",
    "        print(\"You chose \" + str(num2) + \".\")\n",
    "\n",
    "    if(sum15(numsum1)[0] == True):\n",
    "        print(\"Congratualions, \" + name1 + \"! You have won.\")\n",
    "        print(\"The numbers \" + str(sum15(numsum1)[1][0]) + \", \" + str(sum15(numsum1)[1][1]) + \" and \" + str(sum15(numsum1)[1][2]) + \" add up to 15.\")\n",
    "        print(\"Better luck next time, \" + name2 + \".\" + \" Try making the first move in the next game!\")\n",
    "\n",
    "    elif(sum15(numsum2)[0] == True):\n",
    "        print(\"Congratualions, \" + name2 + \"! You have won.\")\n",
    "        print(\"The numbers \" + str(sum15(numsum2)[1][0]) + \", \" + str(sum15(numsum2)[1][1]) + \" and \" + str(sum15(numsum2)[1][2]) + \" add up to 15.\")\n",
    "        print(\"Better luck next time, \" + name1 + \"! You got this.\")\n",
    "\n",
    "    else:\n",
    "        print(\"Aww, it was a tie. The numbers have been exhausted but neither of the sets you chose have three numbers adding up to 15.\")\n",
    "        print(\"Try another game to find out who is the winner!\")\n",
    "\n",
    "    print(\"Do you want to play again? \")\n",
    "    time.sleep(1)\n",
    "    answer = input()\n",
    "    answer = answer.replace(\" \", \"\")\n",
    "    answer = answer.lower()\n",
    "    print(\"You said \" + answer + \".\")\n",
    "\n",
    "    yes = [\"y\", \"yes\", \"yeah\", \"yea\", \"yup\", \"ya\"]\n",
    "    no = [\"n\", \"no\", \"nope\", \"na\", \"nah\", \"nada\"]\n",
    "\n",
    "    if(answer in yes):\n",
    "        ab_game()\n",
    "    else:\n",
    "        print(\"Bye! See you later.\")\n"
   ]
  },
  {
   "cell_type": "code",
   "execution_count": 32,
   "metadata": {},
   "outputs": [
    {
     "output_type": "stream",
     "name": "stdout",
     "text": "\n\nHi.\nWe will now play a game.\nRules:\nThere are numbers from 0 to 9.\nPlayer 1 chooses a number.\nAnd then player 2 chooses another distinct number.\nWe continue until we run out of numbers or one of the players have a set of three numbers that add up to 15.\nThe first one to do this wins. Also, do not forget, 0 cannot be one of the numbers!\nGood luck!\nInput Player 1's name:\nHi Alice\nInput Player 2's name:\nHi Bob\nThe game has begun.\nCurrent status:\nAlice: []\nBob: []\nAlice choose a number from [0, 1, 2, 3, 4, 5, 6, 7, 8, 9].\nYou chose 2.\nCurrent status:\nAlice: [2]\nBob: []\nBob choose a number from [0, 1, 3, 4, 5, 6, 7, 8, 9].\nYou chose 6.\nCurrent status:\nAlice: [2]\nBob: [6]\nAlice choose a number from [0, 1, 3, 4, 5, 7, 8, 9].\nYou chose 4.\nCurrent status:\nAlice: [2, 4]\nBob: [6]\nBob choose a number from [0, 1, 3, 5, 7, 8, 9].\nYou chose 9.\nCurrent status:\nAlice: [2, 4]\nBob: [6, 9]\nAlice choose a number from [0, 1, 3, 5, 7, 8].\nYou chose 1.\nCurrent status:\nAlice: [2, 4, 1]\nBob: [6, 9]\nBob choose a number from [0, 3, 5, 7, 8].\nYou chose 5.\nCurrent status:\nAlice: [2, 4, 1]\nBob: [6, 9, 5]\nAlice choose a number from [0, 3, 7, 8].\nYou chose 3.\nCurrent status:\nAlice: [2, 4, 1, 3]\nBob: [6, 9, 5]\nBob choose a number from [0, 7, 8].\nYou chose 8.\nCurrent status:\nAlice: [2, 4, 1, 3]\nBob: [6, 9, 5, 8]\nAlice choose a number from [0, 7].\nYou chose 7.\nCurrent status:\nAlice: [2, 4, 1, 3, 7]\nBob: [6, 9, 5, 8]\nBob choose a number from [0].\nYou chose 0.\nAww, it was a tie. The numbers have been exhausted but neither of the sets you chose have three numbers adding up to 15.\nTry another game to find out who is the winner!\nDo you want to play again? \nYou said no.\nBye! See you later.\n"
    }
   ],
   "source": [
    "ab_game()"
   ]
  },
  {
   "cell_type": "code",
   "execution_count": null,
   "metadata": {},
   "outputs": [],
   "source": []
  }
 ],
 "metadata": {
  "language_info": {
   "codemirror_mode": {
    "name": "ipython",
    "version": 3
   },
   "file_extension": ".py",
   "mimetype": "text/x-python",
   "name": "python",
   "nbconvert_exporter": "python",
   "pygments_lexer": "ipython3",
   "version": "3.7.3-final"
  },
  "orig_nbformat": 2,
  "kernelspec": {
   "name": "python37364bit20644c5f39084bee854941dd846a15f6",
   "display_name": "Python 3.7.3 64-bit"
  }
 },
 "nbformat": 4,
 "nbformat_minor": 2
}